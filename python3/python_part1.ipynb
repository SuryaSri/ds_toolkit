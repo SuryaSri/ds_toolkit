{
 "cells": [
  {
   "cell_type": "markdown",
   "metadata": {},
   "source": [
    "# Introduction To Python Programming : Part 1"
   ]
  },
  {
   "cell_type": "markdown",
   "metadata": {},
   "source": [
    "![title](images/python3/python.png)"
   ]
  },
  {
   "cell_type": "markdown",
   "metadata": {},
   "source": [
    "Python is the most popular language used for porgramming in the data science domain and a major reason for this is because of it's simplicity. While Python focuses on simplicity and ease of use, at the same time it sacrifices on speed, safety etc. However as a data scientist issues like safety and speed are not of much importance to us right now and when they do, we will use other frameworks designed specifically for production level systems.\n",
    "\n",
    "In this tutorial we will go through basic Python programming techniques that will be essential in getting started with machine learning, deep learning, data visualization and other data science related programming tasks. This guide is however not comprehensive. It is just a means to get ourselves comfortable with Python. For an in depth Python tutorial you can always refer the officical Python documentation.\n",
    "\n",
    "*For this tutorial, we will be using Python 3 (Python 3.6 or higher) so please ensure you have Python 3 installed on your computer. A good way to go through these tutorials is to type the commands and execute them along the way.*"
   ]
  },
  {
   "cell_type": "markdown",
   "metadata": {},
   "source": [
    "## The Programming Environment\n",
    "\n",
    "Python files are saved as `file_name.py` files and running them is quite easy. Here, we will go through 3 of the most popular approaches to Python programming and help you get started:\n",
    "\n",
    "- **Using Jupyter Notebook**\n",
    "This is the easiest approach to getting up and started with Python. This however requires extra software installation (Anaconda). You can download Anaconda distribution from [here.](https://www.anaconda.com/distribution/)\n",
    "Once istalled, run Jupyter Notebook, create a new notebook and you can get started immediately. A quick guide to Jypyter Notebook can be found [here.](https://medium.com/codingthesmartway-com-blog/getting-started-with-jupyter-notebook-for-python-4e7082bd5d46)\n",
    "\n",
    "- **Using A Text Editor**\n",
    "A text editor is a program that lets you write code in a language of your choice and provides additional features like *syntax hilighting*, *code completion* etc. Popular text editors include [Atom,](https://atom.io/) [Sublime Text,](https://www.sublimetext.com/) [Visual Studio Code](https://code.visualstudio.com/) etc. The steps involved are:\n",
    " * Create a new Python 3 file and write code and save it.\n",
    " * Open terminal and navigate to the location where the file was saved.\n",
    " * Type `python3 file_name.py` to execute. If there are no errors, the file will run and the output will be visible on the terminal itself.\n",
    " \n",
    "- **Using IDE**\n",
    "An Integrated Development Environment (IDE) is a software that provides a complete package which includes a text editor, a compiler, a debugger, a project tracker etc. These are however best suited for commercial or production level software development and beginners best stay away from there. That being said, [PyCharm](https://www.jetbrains.com/pycharm/) is a popular Python IDE.\n",
    "\n",
    "*Alternatively, if you dont want to go through any of the above steps, you can visit [Google Colab](https://colab.research.google.com/notebooks/welcome.ipynb) and execute your Python commands online using Google's servers.*"
   ]
  },
  {
   "cell_type": "markdown",
   "metadata": {},
   "source": [
    "## Topics Covered\n",
    "\n",
    "- Introduction\n",
    "  * Printing\n",
    "  * Formatted Printing\n",
    "  * Taking Input From User\n",
    "  * File Handling\n",
    "  * Data Types\n",
    "  \n",
    "- Loops\n",
    "  * Different Types of Python Loops\n",
    "  * How Loops Work\n",
    "  * Examples\n",
    "  \n",
    "- Conditionals\n",
    "  * if-else Statements in Python\n",
    "  * Different Conditional Expressions In Python\n",
    "  * Examples\n",
    "  \n",
    "- Functions\n",
    "  * Different Types of Functions\n",
    "  * Passing Arguments To Functions\n",
    "  * Returning Values\n",
    "\n",
    "- Exception Handling\n",
    "  * Try and Except\n",
    "  * Else\n",
    "  * Finally"
   ]
  },
  {
   "cell_type": "code",
   "execution_count": 1,
   "metadata": {},
   "outputs": [
    {
     "name": "stdout",
     "output_type": "stream",
     "text": [
      "3.6.7 |Anaconda, Inc.| (default, Oct 23 2018, 14:01:38) \n",
      "[GCC 4.2.1 Compatible Clang 4.0.1 (tags/RELEASE_401/final)]\n"
     ]
    }
   ],
   "source": [
    "# This is the command to check the version of Python \n",
    "# More in import statements later\n",
    "import sys\n",
    "print(sys.version)"
   ]
  },
  {
   "cell_type": "markdown",
   "metadata": {},
   "source": [
    "## Introduction\n",
    "\n",
    "### Printing\n",
    "The `print()` command is used to output values to the Python console. It supports strings which are enclosed between `'...'` (single quotes) or `\"...\"` (double quotes). Print also supports variables, functions and data structures like lists, dictionaries etc.  \n",
    "\n",
    "To print a value we type `print('my_string')` or `print(\"my_string\")`. In general, there is no difference between '' and \"\" in Python. We can also print variable values as `print(my_variable)`. A variable in Python is a container that holds some value. In a more strict way, a variable refers to a location in main memory that holds some value and the name of the variable is how we identify that memory location. \n",
    "\n",
    "Let us now go through some examples."
   ]
  },
  {
   "cell_type": "code",
   "execution_count": 2,
   "metadata": {},
   "outputs": [
    {
     "name": "stdout",
     "output_type": "stream",
     "text": [
      "hello world\n",
      "hello world\n"
     ]
    }
   ],
   "source": [
    "# Simple print() statements\n",
    "print('hello world')\n",
    "print(\"hello world\")"
   ]
  },
  {
   "cell_type": "code",
   "execution_count": 5,
   "metadata": {},
   "outputs": [
    {
     "name": "stdout",
     "output_type": "stream",
     "text": [
      "hello world\n",
      "hello  world\n",
      "hello   world\n"
     ]
    }
   ],
   "source": [
    "# Using multiple values in the same print statement\n",
    "print('hello', 'world')\n",
    "print('hello ', 'world')\n",
    "print(\"hello\", \" \", \"world\")"
   ]
  },
  {
   "cell_type": "markdown",
   "metadata": {},
   "source": [
    "Note that Python by default adds a space between two print values even though we haven't specified it. For the remainder of the exercises we will be using `\"...\"` in `print()` statements and string variables and we will be using `'...'` in arguments to function calls."
   ]
  },
  {
   "cell_type": "code",
   "execution_count": 6,
   "metadata": {},
   "outputs": [
    {
     "name": "stdout",
     "output_type": "stream",
     "text": [
      "12\n",
      "hello world\n",
      "12 hello world\n",
      "John Doe\n"
     ]
    }
   ],
   "source": [
    "# Printing variable values\n",
    "var_num = 12\n",
    "var_str = \"hello world\"\n",
    "f_name = \"John\"\n",
    "l_name = \"Doe\"\n",
    "\n",
    "print(var_num)\n",
    "print(var_str)\n",
    "print(var_num, var_str)\n",
    "print(f_name, l_name)"
   ]
  },
  {
   "cell_type": "markdown",
   "metadata": {},
   "source": [
    "Python even supports expressions inside `print()` statements. An expression is a combination of variables and operators (like +, - etc.) which results in a value. An expression can also be a conditional expression which we will deal with later."
   ]
  },
  {
   "cell_type": "code",
   "execution_count": 8,
   "metadata": {},
   "outputs": [
    {
     "name": "stdout",
     "output_type": "stream",
     "text": [
      "6\n",
      "144\n",
      "64\n",
      "18.875\n",
      "3\n"
     ]
    }
   ],
   "source": [
    "print(12 - 6) # A simple expression\n",
    "print(12 ** 2) # 12 raised to the power 2; ** works as power operator in Python\n",
    "print(4 ** 3) # 4 raised to the power 3\n",
    "print(5 * 6 + 7 / 8 - 12) # A complex operation\n",
    "print(7 % 4) # Modulo operation, finds the remainder when 7 is divided by 4"
   ]
  },
  {
   "cell_type": "markdown",
   "metadata": {},
   "source": [
    "### Formatted Printing\n",
    "\n",
    "In formatted printing we embed variables inside a string using `{}` and then we put the variables inside the curly braces to output the contents of the variables. The string itself starts with `f` character which means *format* and denotes that we are printing a formatted string.\n",
    "\n",
    "A format string variable has to be defined (ie. declared before used) otherwise it will throw an error."
   ]
  },
  {
   "cell_type": "code",
   "execution_count": 9,
   "metadata": {},
   "outputs": [
    {
     "name": "stdout",
     "output_type": "stream",
     "text": [
      "this is my first hello world program\n"
     ]
    }
   ],
   "source": [
    "# Simple formatted output example\n",
    "var = \"hello world\"\n",
    "print(f\"this is my first {var} program\")"
   ]
  },
  {
   "cell_type": "code",
   "execution_count": 10,
   "metadata": {},
   "outputs": [
    {
     "name": "stdout",
     "output_type": "stream",
     "text": [
      "His name is John and he is 12 years old\n"
     ]
    }
   ],
   "source": [
    "# Formatted output variables can be of different types\n",
    "var_num = 12\n",
    "var_str = \"John\"\n",
    "print(f\"His name is {var_str} and he is {var_num} years old\")"
   ]
  },
  {
   "cell_type": "code",
   "execution_count": 12,
   "metadata": {},
   "outputs": [
    {
     "ename": "NameError",
     "evalue": "name 'my_var' is not defined",
     "output_type": "error",
     "traceback": [
      "\u001b[0;31m---------------------------------------------------------------------------\u001b[0m",
      "\u001b[0;31mNameError\u001b[0m                                 Traceback (most recent call last)",
      "\u001b[0;32m<ipython-input-12-6a30c2ea670a>\u001b[0m in \u001b[0;36m<module>\u001b[0;34m()\u001b[0m\n\u001b[1;32m      1\u001b[0m \u001b[0;31m# Using a variable without initializing\u001b[0m\u001b[0;34m\u001b[0m\u001b[0;34m\u001b[0m\u001b[0;34m\u001b[0m\u001b[0m\n\u001b[0;32m----> 2\u001b[0;31m \u001b[0mprint\u001b[0m\u001b[0;34m(\u001b[0m\u001b[0;34mf\"{my_var}\"\u001b[0m\u001b[0;34m)\u001b[0m\u001b[0;34m\u001b[0m\u001b[0;34m\u001b[0m\u001b[0m\n\u001b[0m",
      "\u001b[0;31mNameError\u001b[0m: name 'my_var' is not defined"
     ]
    }
   ],
   "source": [
    "# Using a variable without initializing\n",
    "print(f\"{my_var}\")"
   ]
  },
  {
   "cell_type": "markdown",
   "metadata": {},
   "source": [
    "This is how an error looks like in Python. We can try to fix our errors using the last error message ouput and slowly working up the chain of command to fix the various errors. In this case there is only 1 error message so there is no chain of command to follow up."
   ]
  },
  {
   "cell_type": "markdown",
   "metadata": {},
   "source": [
    "#### format() function\n",
    "\n",
    "- The `format()` allows us to do more complicated formatting of the string. It is a formatting function which allows multiple substitutions and value formatting.\n",
    "- This method lets us concatenate elements within a string through positional formatting.\n",
    "- They work by putting one or more replacement fields and placeholders defined by `{}` which is then filled up by a variable or a value.\n",
    "- If there are less number of arguments than `{}` we get an error and if there are more number of arguments than `{}` only the first *n* arguments are considered."
   ]
  },
  {
   "cell_type": "code",
   "execution_count": 13,
   "metadata": {},
   "outputs": [
    {
     "name": "stdout",
     "output_type": "stream",
     "text": [
      "10 20 30 4.5\n",
      "hello world 12 True\n"
     ]
    }
   ],
   "source": [
    "# A simple format() example\n",
    "formatter = \"{} {} {} {}\"\n",
    "print(formatter.format(10, 20, 30, 4.5))\n",
    "print(formatter.format(\"hello\", \"world\", 12, True))"
   ]
  },
  {
   "cell_type": "code",
   "execution_count": 14,
   "metadata": {},
   "outputs": [
    {
     "name": "stdout",
     "output_type": "stream",
     "text": [
      "{} {} {} -17 hello world 42\n",
      "{} {} {} {} {} {} {} {} {}\n"
     ]
    }
   ],
   "source": [
    "# A complex formatter example\n",
    "formatter = \"{} {} {}\"\n",
    "print(formatter.format(formatter, 12+3-8*4, \"hello world 42\"))\n",
    "print(formatter.format(formatter, formatter, formatter))"
   ]
  },
  {
   "cell_type": "code",
   "execution_count": 19,
   "metadata": {},
   "outputs": [
    {
     "name": "stdout",
     "output_type": "stream",
     "text": [
      "a b c {} {} {} 1.23 hello world -99\n"
     ]
    }
   ],
   "source": [
    "# An even more complex example\n",
    "formatter = \"{} {} {}\"\n",
    "print(formatter.format(formatter.format(\"a\", \"b\", \"c\"), formatter, formatter.format(1.23, \"hello world\", -99)))"
   ]
  },
  {
   "cell_type": "code",
   "execution_count": 20,
   "metadata": {},
   "outputs": [
    {
     "name": "stdout",
     "output_type": "stream",
     "text": [
      "10 -20 50\n"
     ]
    }
   ],
   "source": [
    "# Passing more arguments than the number of {}\n",
    "# Only the first n are considered, in this case n=3\n",
    "formatter = \"{} {} {}\"\n",
    "print(formatter.format(10, -20, 50, -40, -65))"
   ]
  },
  {
   "cell_type": "code",
   "execution_count": 21,
   "metadata": {},
   "outputs": [
    {
     "ename": "IndexError",
     "evalue": "tuple index out of range",
     "output_type": "error",
     "traceback": [
      "\u001b[0;31m---------------------------------------------------------------------------\u001b[0m",
      "\u001b[0;31mIndexError\u001b[0m                                Traceback (most recent call last)",
      "\u001b[0;32m<ipython-input-21-236069f1b6d7>\u001b[0m in \u001b[0;36m<module>\u001b[0;34m()\u001b[0m\n\u001b[1;32m      2\u001b[0m \u001b[0;31m# This will result in an error\u001b[0m\u001b[0;34m\u001b[0m\u001b[0;34m\u001b[0m\u001b[0;34m\u001b[0m\u001b[0m\n\u001b[1;32m      3\u001b[0m \u001b[0mformatter\u001b[0m \u001b[0;34m=\u001b[0m \u001b[0;34m\"{} {} {} {}\"\u001b[0m\u001b[0;34m\u001b[0m\u001b[0;34m\u001b[0m\u001b[0m\n\u001b[0;32m----> 4\u001b[0;31m \u001b[0mprint\u001b[0m\u001b[0;34m(\u001b[0m\u001b[0mformatter\u001b[0m\u001b[0;34m.\u001b[0m\u001b[0mformat\u001b[0m\u001b[0;34m(\u001b[0m\u001b[0;34m\"hello\"\u001b[0m\u001b[0;34m,\u001b[0m \u001b[0;36m12\u001b[0m\u001b[0;34m,\u001b[0m \u001b[0;34m\"world\"\u001b[0m\u001b[0;34m)\u001b[0m\u001b[0;34m)\u001b[0m\u001b[0;34m\u001b[0m\u001b[0;34m\u001b[0m\u001b[0m\n\u001b[0m",
      "\u001b[0;31mIndexError\u001b[0m: tuple index out of range"
     ]
    }
   ],
   "source": [
    "# Passing lesser arguments than the number of {}\n",
    "# This will result in an error\n",
    "formatter = \"{} {} {} {}\"\n",
    "print(formatter.format(\"hello\", 12, \"world\"))"
   ]
  },
  {
   "cell_type": "markdown",
   "metadata": {},
   "source": [
    "### Taking Inputs From User\n",
    "\n",
    "Python lets us take user input using the `input()` function. The `input()` function reads everything as a string. After taking input, we need to *typecast* the data to relevant type for further processing. *Typecasting* means to convert the data from one type to another. For eg. if we have to find the sum of 2 numbers, Python will read the input numbers as strings and using a *+* operations will lead to *concatenation* (ie. joining the second string to the end of the first string).\n",
    "\n",
    "However, through typecasting we can convert the data from string to integer format and then add them accordingly. This result will **not be** a concatenation operation, rather it will be a mathematical operation. The following examples will make things clear."
   ]
  },
  {
   "cell_type": "code",
   "execution_count": 22,
   "metadata": {},
   "outputs": [
    {
     "name": "stdout",
     "output_type": "stream",
     "text": [
      "enter a string : \n",
      "hello world\n",
      "entered string is hello world\n"
     ]
    }
   ],
   "source": [
    "# Simple string input demonstration\n",
    "print(\"enter a string : \")\n",
    "var_str = input()\n",
    "print(f\"entered string is {var_str}\")"
   ]
  },
  {
   "cell_type": "code",
   "execution_count": 23,
   "metadata": {},
   "outputs": [
    {
     "name": "stdout",
     "output_type": "stream",
     "text": [
      "enter a string : \n",
      "hello\n",
      "enter another string : \n",
      "World\n",
      "concatenated strings are :  helloWorld\n"
     ]
    }
   ],
   "source": [
    "# String concatenation example\n",
    "\n",
    "print(\"enter a string : \")\n",
    "var_str1 = input()\n",
    "print(\"enter another string : \")\n",
    "var_str2 = input()\n",
    "\n",
    "# Strings are concatenated using + operator\n",
    "print(\"concatenated strings are : \", var_str1 + var_str2)"
   ]
  },
  {
   "cell_type": "code",
   "execution_count": 24,
   "metadata": {},
   "outputs": [
    {
     "name": "stdout",
     "output_type": "stream",
     "text": [
      "enter a number : \n",
      "12\n",
      "enter another number : \n",
      "10\n",
      "The result of 12 + 10 is :  1210\n"
     ]
    }
   ],
   "source": [
    "# Concatenation of integers\n",
    "\n",
    "print(\"enter a number : \")\n",
    "var_num1 = input()\n",
    "print(\"enter another number : \")\n",
    "var_num2 = input()\n",
    "\n",
    "# Concatenation of 2 integers\n",
    "print(f\"The result of {var_num1} + {var_num2} is : \", var_num1 + var_num2)"
   ]
  },
  {
   "cell_type": "markdown",
   "metadata": {},
   "source": [
    "We can solve the problem of concatenation of numbers using **Typecasting**. Typecasting allows us to convert the string data to any other data type of our choice. This can be achieved by enclosing the `input()` command within the relevant data type.\n",
    "\n",
    "For eg. to convert string input to integer input we can typecast it as `int(input())`. This will ensure that all the string data is converted to relevant integer data. This however works for numbers. See what happens when the same is applied to string values like *hello world*, *example* etc."
   ]
  },
  {
   "cell_type": "code",
   "execution_count": 26,
   "metadata": {},
   "outputs": [
    {
     "name": "stdout",
     "output_type": "stream",
     "text": [
      "enter a number : \n",
      "12\n",
      "enter another number : \n",
      "10\n",
      "The result of 12 + 10 is :  22\n"
     ]
    }
   ],
   "source": [
    "# Typecasting string input to integer input\n",
    "\n",
    "print(\"enter a number : \")\n",
    "var_num1 = int(input())\n",
    "print(\"enter another number : \")\n",
    "var_num2 = int(input())\n",
    "\n",
    "# Sum of 2 integers\n",
    "print(f\"The result of {var_num1} + {var_num2} is : \", var_num1 + var_num2)"
   ]
  },
  {
   "cell_type": "code",
   "execution_count": 27,
   "metadata": {},
   "outputs": [
    {
     "name": "stdout",
     "output_type": "stream",
     "text": [
      "enter a string : \n",
      "hello world\n"
     ]
    },
    {
     "ename": "ValueError",
     "evalue": "invalid literal for int() with base 10: 'hello world'",
     "output_type": "error",
     "traceback": [
      "\u001b[0;31m---------------------------------------------------------------------------\u001b[0m",
      "\u001b[0;31mValueError\u001b[0m                                Traceback (most recent call last)",
      "\u001b[0;32m<ipython-input-27-3a882c3431cf>\u001b[0m in \u001b[0;36m<module>\u001b[0;34m()\u001b[0m\n\u001b[1;32m      1\u001b[0m \u001b[0;31m# Typecasting explicit strings to integers\u001b[0m\u001b[0;34m\u001b[0m\u001b[0;34m\u001b[0m\u001b[0;34m\u001b[0m\u001b[0m\n\u001b[1;32m      2\u001b[0m \u001b[0mprint\u001b[0m\u001b[0;34m(\u001b[0m\u001b[0;34m\"enter a string : \"\u001b[0m\u001b[0;34m)\u001b[0m\u001b[0;34m\u001b[0m\u001b[0;34m\u001b[0m\u001b[0m\n\u001b[0;32m----> 3\u001b[0;31m \u001b[0mmy_str\u001b[0m \u001b[0;34m=\u001b[0m \u001b[0mint\u001b[0m\u001b[0;34m(\u001b[0m\u001b[0minput\u001b[0m\u001b[0;34m(\u001b[0m\u001b[0;34m)\u001b[0m\u001b[0;34m)\u001b[0m\u001b[0;34m\u001b[0m\u001b[0;34m\u001b[0m\u001b[0m\n\u001b[0m\u001b[1;32m      4\u001b[0m \u001b[0mprint\u001b[0m\u001b[0;34m(\u001b[0m\u001b[0;34m\"entered string is : \"\u001b[0m\u001b[0;34m,\u001b[0m \u001b[0mmy_str\u001b[0m\u001b[0;34m)\u001b[0m\u001b[0;34m\u001b[0m\u001b[0;34m\u001b[0m\u001b[0m\n",
      "\u001b[0;31mValueError\u001b[0m: invalid literal for int() with base 10: 'hello world'"
     ]
    }
   ],
   "source": [
    "# Typecasting explicit strings to integers\n",
    "print(\"enter a string : \")\n",
    "my_str = int(input())\n",
    "print(\"entered string is : \", my_str)"
   ]
  },
  {
   "cell_type": "markdown",
   "metadata": {},
   "source": [
    "So we get an error which was expected because string representations of numbers can be converted to integers but they will not work with actual strings."
   ]
  },
  {
   "cell_type": "markdown",
   "metadata": {},
   "source": [
    "### File Handling\n",
    "\n",
    "*File Handling* is the technique of working with files. It involves opening and closing files, reading from files, writing to files etc. We can work with different file types in Python. These include text files, image files, binary files. spreadsheets, CSV files, JSON files etc. However in this example, we will limit ourselves to file operations using text files ie. `.txt` files.\n",
    "\n",
    "We can open a file using `open(filename)`, close the file using `object.close()` and read the entire contents of the file using `object.read()` commands. Let us first go through some examples and then figure out how basics of file handling works."
   ]
  },
  {
   "cell_type": "markdown",
   "metadata": {},
   "source": [
    "![title](images/python3/files.jpg)"
   ]
  },
  {
   "cell_type": "code",
   "execution_count": 33,
   "metadata": {},
   "outputs": [
    {
     "name": "stdout",
     "output_type": "stream",
     "text": [
      "CONTENTS OF sample.txt : \n",
      "==============================\n",
      "This is a sample line of text.\n",
      "This is a text file which has 5 lines.\n",
      "The quick brown fox jumps over the lazy dog.\n",
      "print(\"hello world\")\n",
      "-------------END------------------\n"
     ]
    }
   ],
   "source": [
    "# Specify the filename (wrong filename throws error)\n",
    "filename = \"sample.txt\"\n",
    "\n",
    "# Open the file\n",
    "txt = open(filename)\n",
    "\n",
    "# Read the contents of the file and print\n",
    "print(f\"CONTENTS OF {filename} : \")\n",
    "print(\"=\" * 30)\n",
    "print(txt.read())\n",
    "\n",
    "# Close the file\n",
    "txt.close()"
   ]
  },
  {
   "cell_type": "markdown",
   "metadata": {},
   "source": [
    "#### open(file, mode='r', ...)\n",
    "`open(...)` is a *function* that lets us open files on the disk. A *function* is a pre-defined piece of code that performs a pre programmed task. We will talk more about functions later.\n",
    "- Open a file and return a stream. Raise I/O Error upon failure.\n",
    "- `file` is either a text or byte string giving the name of the file to be opened.\n",
    "- `mode` is an optional parameter that specifies the mode in which the file is opened. Here `mode='r'` means open the file in *read-only* mode ie. the file can be read from but not written to. Read only mode is the default mode when opening files.\n",
    "- `open(...)` **does not** return the contents of the file. Rather, it just returns an *object* of the file which can be used to access the file. An object is a reference to something which gives us the location of the data and other relevant information. For example, we can think of variables as objects of particular data types that tell us where the data is stored in memory.\n",
    "\n",
    "#### close()\n",
    "`object.close()` is a function that lets us close the file after we are done using them.\n",
    "- It is always safe to close files after use to save resources.\n",
    "- Also, closing a file after use prevents it from getting modified unintentionally.\n",
    "\n",
    "#### read()\n",
    "`object.read()` is used to read *n* bytes from the input stream (in this example, a file). If the size of bytes to read is not specified it will read the whole file.\n",
    "- The result of `object.read()` can be assigned to a variable which can later be reused."
   ]
  },
  {
   "cell_type": "code",
   "execution_count": 34,
   "metadata": {},
   "outputs": [
    {
     "name": "stdout",
     "output_type": "stream",
     "text": [
      "This is a sampl\n"
     ]
    }
   ],
   "source": [
    "# Specify the file\n",
    "filename = \"sample.txt\"\n",
    "\n",
    "# Open the file\n",
    "txt = open(filename)\n",
    "\n",
    "# Read the first 15 bytes\n",
    "print(txt.read(15))\n",
    "\n",
    "# Close the file\n",
    "txt.close()"
   ]
  },
  {
   "cell_type": "markdown",
   "metadata": {},
   "source": [
    "#### write(\"string\")\n",
    "`object.write(\"string\")` writes \"string\" to the specified file.\n",
    "- It takes a parameter of the string we want to write to the file.\n",
    "- A varible containing string values, a reference to text, combination of string values all can be written to the file.\n",
    "- To write to a file we must ensure that the file is opened in `'w'` mode and not `'r'` mode.\n",
    "\n",
    "#### truncate()\n",
    "`object.truncate()` is a command that is used to empty the contents of the current file.\n",
    "- `truncate()` command empties the contents of the referenced file to prepare it for writing. Once a file has been truncated we can then write to it using `write(...)` command.\n",
    "- Actually speaking, opening a file in `'w'` mode clears it altogether but we still need to truncate the file to reset the file pointers to appropriate memory location before starting the write operation.\n",
    "\n",
    "#### readline()\n",
    "`object.readline()` reads one line of a text file.\n",
    "- It scans each byte of the file until it finds the `\\n` character and then stops reading the file.\n",
    "- It then returns whatever it has found so far.\n",
    "- `object.readline()` also returns the `\\n` character at the end of each line (till where it reads) and during printing we might get an extra blank. To prevent this, we can use `print(..., end='')`. This is because by default Python prints every `print(...)` statement on a new line.\n",
    "\n",
    "#### seek(n)\n",
    "`object.seek(n)` moves the read/write head (ie. a pointer to where the read/write operation will start) to the n-1 character. This is because the indexing of characters start from 0 position.\n",
    "- `target.seek(0)` will move the read/write head to the beginning of the file.\n",
    "- `target.seek(k)` will move the read/write head to the k-1 character in the file. However if k > n (where n is the total number of characters in the file) it will print an empty file.\n",
    "- `target.seek(-1)` will result in an error and the same is true for any negative value.\n",
    "- `target.seek(expr)` will move the read/write head to the result of expr-1 (where expr is a mathematical expression and it is evaluated first before moving the pointer. However if the result of expr < 0 then it will throw an error."
   ]
  },
  {
   "cell_type": "markdown",
   "metadata": {},
   "source": [
    "![title](images/python3/file_handling.png)"
   ]
  },
  {
   "cell_type": "code",
   "execution_count": 35,
   "metadata": {},
   "outputs": [],
   "source": [
    "# Specify the filename\n",
    "filename = \"sample.txt\"\n",
    "\n",
    "# Open the file in 'w' mode\n",
    "obj = open(filename, 'w')"
   ]
  },
  {
   "cell_type": "markdown",
   "metadata": {},
   "source": [
    "Trying to read a file before it has been truncated (even though it is opened in 'w' mode leads to error)."
   ]
  },
  {
   "cell_type": "code",
   "execution_count": 36,
   "metadata": {},
   "outputs": [
    {
     "ename": "UnsupportedOperation",
     "evalue": "not readable",
     "output_type": "error",
     "traceback": [
      "\u001b[0;31m---------------------------------------------------------------------------\u001b[0m",
      "\u001b[0;31mUnsupportedOperation\u001b[0m                      Traceback (most recent call last)",
      "\u001b[0;32m<ipython-input-36-0f406bcc4cb7>\u001b[0m in \u001b[0;36m<module>\u001b[0;34m()\u001b[0m\n\u001b[1;32m      1\u001b[0m \u001b[0;31m# Read the file (this will cause error)\u001b[0m\u001b[0;34m\u001b[0m\u001b[0;34m\u001b[0m\u001b[0;34m\u001b[0m\u001b[0m\n\u001b[0;32m----> 2\u001b[0;31m \u001b[0mobj\u001b[0m\u001b[0;34m.\u001b[0m\u001b[0mread\u001b[0m\u001b[0;34m(\u001b[0m\u001b[0;34m)\u001b[0m\u001b[0;34m\u001b[0m\u001b[0;34m\u001b[0m\u001b[0m\n\u001b[0m",
      "\u001b[0;31mUnsupportedOperation\u001b[0m: not readable"
     ]
    }
   ],
   "source": [
    "# Read the file (this will cause error)\n",
    "obj.read()"
   ]
  },
  {
   "cell_type": "markdown",
   "metadata": {},
   "source": [
    "We can verify whether the 'w' operation clears a file or not. To do this, simply save the file by *closing* it and open it again in 'r' mode and then try to read it."
   ]
  },
  {
   "cell_type": "code",
   "execution_count": 38,
   "metadata": {},
   "outputs": [
    {
     "name": "stdout",
     "output_type": "stream",
     "text": [
      "CONTENTS OF sample.txt\n",
      "==============================\n",
      "\n"
     ]
    }
   ],
   "source": [
    "# Close the file\n",
    "obj.close()\n",
    "\n",
    "# Open the file again in 'r' mode\n",
    "obj = open(filename, 'r')\n",
    "\n",
    "# Read the contents of file and print\n",
    "print(f\"CONTENTS OF {filename}\")\n",
    "print(\"=\" * 30)\n",
    "print(obj.read())\n",
    "\n",
    "# Close the file again\n",
    "obj.close()"
   ]
  },
  {
   "cell_type": "markdown",
   "metadata": {},
   "source": [
    "Let us now write some data to the file."
   ]
  },
  {
   "cell_type": "code",
   "execution_count": 40,
   "metadata": {},
   "outputs": [],
   "source": [
    "# Specify the filename\n",
    "filename = \"sample.txt\"\n",
    "\n",
    "# Open the file in 'w' mode\n",
    "obj = open(filename, 'w')\n",
    "\n",
    "# Truncate the file to write data\n",
    "obj.truncate()\n",
    "\n",
    "# Prepare data to write to file\n",
    "my_string1 = \"the quick brown fox jumps over the lazy dog.\\n\"\n",
    "my_string2 = \"hello world\"\n",
    "my_string3 = \"this is a new line\"\n",
    "my_expr = 12 + 3 - 6 ** 2 * 8 / 12 - 9\n",
    "\n",
    "# Write some strings to the file\n",
    "obj.write(\"this is a new file\\n\")\n",
    "obj.write(\"this line should start on a new line \")\n",
    "obj.write(\"this line should also be on a new line ?\")\n",
    "obj.write(\"\\n\")\n",
    "\n",
    "# Write some variable values to the file\n",
    "obj.write(my_string1 + my_string2)\n",
    "obj.write(my_string2)\n",
    "obj.write(my_string3)\n",
    "obj.write(str(my_expr)) # since 'write()' only takes string data we have to typecast the argument first\n",
    "\n",
    "# Close the file.\n",
    "obj.close()"
   ]
  },
  {
   "cell_type": "markdown",
   "metadata": {},
   "source": [
    "Let us now check the file contents of `sample.txt` and then we will go through the other functions on file handling."
   ]
  },
  {
   "cell_type": "code",
   "execution_count": 41,
   "metadata": {},
   "outputs": [
    {
     "name": "stdout",
     "output_type": "stream",
     "text": [
      "CONTENTS OF sample.txt\n",
      "==============================\n",
      "this is a new file\n",
      "this line should start on a new line this line should also be on a new line ?\n",
      "the quick brown fox jumps over the lazy dog.\n",
      "hello worldhello worldthis is a new line-18.0\n"
     ]
    }
   ],
   "source": [
    "# Open the file in read mode\n",
    "obj = open(filename, 'r')\n",
    "\n",
    "# Read the contents and display.\n",
    "print(f\"CONTENTS OF {filename}\")\n",
    "print(\"=\" * 30)\n",
    "print(obj.read())\n",
    "\n",
    "# Close the file\n",
    "obj.close()"
   ]
  },
  {
   "cell_type": "markdown",
   "metadata": {},
   "source": [
    "Let us now see how `target.seek()` and `target.readline()` work and we will be further exploring how to add new data to already existing files, how to open/write to files that do not exist etc."
   ]
  },
  {
   "cell_type": "code",
   "execution_count": 42,
   "metadata": {},
   "outputs": [
    {
     "name": "stdout",
     "output_type": "stream",
     "text": [
      "this is a new file\n",
      "this line should start on a new line this line should also be on a new line ?\n",
      "the quick brown fox jumps over the lazy dog.\n",
      "hello worldhello worldthis is a new line-18.0\n"
     ]
    }
   ],
   "source": [
    "# Open the file in read mode\n",
    "obj = open(filename, 'r')\n",
    "\n",
    "# Print the contents of the file\n",
    "print(obj.read())"
   ]
  },
  {
   "cell_type": "markdown",
   "metadata": {},
   "source": [
    "If we now try to read the contents of the file again using `obj.read()` we will get a blank output because the read/write head has moved to the end of the file and there is nothing more to read. To solve this problem, we will need the `seek()` function. If we need to read any particular line of the file instead of the whole file we will use the `readline()` function alongwith the `seek()` function."
   ]
  },
  {
   "cell_type": "code",
   "execution_count": 45,
   "metadata": {},
   "outputs": [
    {
     "name": "stdout",
     "output_type": "stream",
     "text": [
      "\n"
     ]
    }
   ],
   "source": [
    "# Read the file again\n",
    "print(obj.read())"
   ]
  },
  {
   "cell_type": "code",
   "execution_count": 46,
   "metadata": {},
   "outputs": [
    {
     "name": "stdout",
     "output_type": "stream",
     "text": [
      "this is a new file\n",
      "this line should start on a new line this line should also be on a new line ?\n",
      "the quick brown fox jumps over the lazy dog.\n",
      "hello worldhello worldthis is a new line-18.0\n"
     ]
    }
   ],
   "source": [
    "# Set the pointer to the beginning\n",
    "obj.seek(0)\n",
    "\n",
    "# Read the file\n",
    "print(obj.read())"
   ]
  },
  {
   "cell_type": "code",
   "execution_count": 47,
   "metadata": {},
   "outputs": [
    {
     "name": "stdout",
     "output_type": "stream",
     "text": [
      "this is a new file\n",
      "\n"
     ]
    }
   ],
   "source": [
    "# Reset the pointer and read the first line\n",
    "obj.seek(0)\n",
    "print(obj.readline())"
   ]
  },
  {
   "cell_type": "code",
   "execution_count": 51,
   "metadata": {},
   "outputs": [
    {
     "name": "stdout",
     "output_type": "stream",
     "text": [
      "this is a new file\n"
     ]
    }
   ],
   "source": [
    "# Reset the pointer and read the first line without extra space\n",
    "obj.seek(0)\n",
    "print(obj.readline(), end='')"
   ]
  },
  {
   "cell_type": "code",
   "execution_count": 52,
   "metadata": {},
   "outputs": [
    {
     "name": "stdout",
     "output_type": "stream",
     "text": [
      "this line should start on a new line this line should also be on a new line ?\n",
      "on a new line this line should also be on a new line ?\n"
     ]
    }
   ],
   "source": [
    "# Read the next line and set the pointer to the 41st character and print a line from there\n",
    "print(obj.readline(), end='')\n",
    "obj.seek(42)\n",
    "print(obj.readline(), end='')\n",
    "\n",
    "# Close the file\n",
    "obj.close()"
   ]
  },
  {
   "cell_type": "markdown",
   "metadata": {},
   "source": [
    "#### Modes\n",
    "- **r** and **r+**\n",
    "  * This file mode is used to specify that a file is to be opened in *read-only* mode. \n",
    "  * A read only mode is a one where the user/program can only read the contents of the file but not modify it.\n",
    "  * Read mode throws an error when the specified file does not exist. If we want to open a file that does not exist in read only mode without throwing error we have to use **r+**.\n",
    "  \n",
    "- **w** and **w+**\n",
    "  * This file mode is used to specify that a file is to be opened in *write* mode which means that the user/program can modify the contents of the file. \n",
    "  * Opening a file in write mode however empties the contents of the entire file which may not be desirable always.\n",
    "  * If we want to open a non existing file in write mode without throwing errors, we have to use **w+** mode.\n",
    "  \n",
    "- **a** and **a+**\n",
    "  * This file mode is used to *append* data to an already existing file. Appending means to add more contents to the existing file without deleting the contents of the file.\n",
    "  * Append mode gives permission to modify the contents of the file without deleting it. It starts appending data from current position of the read/write head.\n",
    "  * If we want to append to a file that does not exist we can do it using **a+** mode without throwing errors."
   ]
  },
  {
   "cell_type": "code",
   "execution_count": 54,
   "metadata": {},
   "outputs": [
    {
     "name": "stdout",
     "output_type": "stream",
     "text": [
      "this is a new file\n",
      "this line should start on a new line this line should also be on a new line ?\n",
      "the quick brown fox jumps over the lazy dog.\n",
      "hello worldhello worldthis is a new line-18.0\n"
     ]
    }
   ],
   "source": [
    "# Open an existing file in read mode\n",
    "obj = open(filename, 'r')\n",
    "\n",
    "# Read the contents of the file\n",
    "print(obj.read())\n",
    "\n",
    "# Close the file\n",
    "obj.close()"
   ]
  },
  {
   "cell_type": "code",
   "execution_count": 59,
   "metadata": {},
   "outputs": [],
   "source": [
    "# Open the file in append mode\n",
    "obj = open(filename, 'a')\n",
    "\n",
    "# Add new contents to the end of the file\n",
    "obj.write(\"\\n\")\n",
    "obj.write(\"new line successfully appended!\\n\")\n",
    "obj.write(\"----END----\")\n",
    "\n",
    "# Close the file\n",
    "obj.close()"
   ]
  },
  {
   "cell_type": "markdown",
   "metadata": {},
   "source": [
    "Now if we open the file we will see that the new data has been appended to the file but the original contents are still intact."
   ]
  },
  {
   "cell_type": "code",
   "execution_count": 60,
   "metadata": {},
   "outputs": [
    {
     "name": "stdout",
     "output_type": "stream",
     "text": [
      "this is a new file\n",
      "this line should start on a new line this line should also be on a new line ?\n",
      "the quick brown fox jumps over the lazy dog.\n",
      "hello worldhello worldthis is a new line-18.0\n",
      "new line successfully appended!\n",
      "----END----\n"
     ]
    }
   ],
   "source": [
    "# Open the file in read mode\n",
    "obj = open(filename, 'r')\n",
    "\n",
    "# Read the contents of the file\n",
    "print(obj.read())\n",
    "\n",
    "# Close the file\n",
    "obj.close()"
   ]
  },
  {
   "cell_type": "code",
   "execution_count": 63,
   "metadata": {},
   "outputs": [],
   "source": [
    "# Open a file in w+ mode (opening this file in w mode will through error as it does not exist on disk)\n",
    "obj = open(\"randomXYZ.txt\", 'w+')\n",
    "\n",
    "# Truncate the file for writing\n",
    "obj.truncate()\n",
    "\n",
    "# Write some lines to the file\n",
    "obj.write(\"hello world\")\n",
    "obj.write(\"\\n\")\n",
    "obj.write(\"this is a new line\\n\")\n",
    "obj.write(str(-99))\n",
    "\n",
    "# Close the file\n",
    "obj.close()"
   ]
  },
  {
   "cell_type": "markdown",
   "metadata": {},
   "source": [
    "Let us now go through the contents of the random text file we just created."
   ]
  },
  {
   "cell_type": "code",
   "execution_count": 64,
   "metadata": {},
   "outputs": [
    {
     "name": "stdout",
     "output_type": "stream",
     "text": [
      "hello world\n",
      "this is a new line\n",
      "-99\n"
     ]
    }
   ],
   "source": [
    "# Open the file in read mode\n",
    "obj = open(\"randomXYZ.txt\", 'r')\n",
    "\n",
    "# Read the contents\n",
    "print(obj.read())\n",
    "\n",
    "# Close the file\n",
    "obj.close()"
   ]
  },
  {
   "cell_type": "code",
   "execution_count": 66,
   "metadata": {},
   "outputs": [
    {
     "name": "stdout",
     "output_type": "stream",
     "text": [
      "this is a new file\n",
      "this line should start on a new line this line should also be on a new line ?\n",
      "the quick brown fox jumps over the lazy dog.\n",
      "hello worldhello worldthis is a new line-18.0\n",
      "new line successfully appended!\n",
      "----END----hello world\n",
      "this is a new line\n",
      "-99\n"
     ]
    }
   ],
   "source": [
    "# Copy the contents of one file (source) to another (destination) in a single line\n",
    "source = \"sample.txt\"\n",
    "destination = \"sampleXYZ.txt\"\n",
    "open(destination, 'w+').write(open(source, 'r').read())\n",
    "\n",
    "# Append the contents of one file (source) to another (destination) in a single line\n",
    "source = \"randomXYZ.txt\"\n",
    "destination = \"sampleXYZ.txt\"\n",
    "open(destination, 'a').write(open(source, 'r').read())\n",
    "\n",
    "# Open the destination file and display it's contents\n",
    "obj = open(destination, 'r')\n",
    "print(obj.read())\n",
    "\n",
    "# Close the file\n",
    "obj.close()"
   ]
  },
  {
   "cell_type": "markdown",
   "metadata": {},
   "source": [
    "### Data Types\n",
    "\n",
    "The most common data types in Python that are of use to us are `int`, `float`, `str` and `bool`. \n",
    "\n",
    "- **Integer**\n",
    "Integers are non decimal numbers in Python and are represented using `int` keyword.\n",
    "- **Floating Point**\n",
    "Floating point numbers in Python are numbers with fractional parts. They are represented using `float` keyword.\n",
    "- **String**\n",
    "Strings in Python are represented by alphanumeric set of characters and can be numbers, aplhabets or combination of both. They are represented using `str` keyword.\n",
    "- **Boolean**\n",
    "Boolean values in Python are those which have only 2 values. In Python it is represented using `bool` keyword and contains `True` or `False` values."
   ]
  },
  {
   "cell_type": "markdown",
   "metadata": {},
   "source": [
    "![title](images/python3/dtypes.png)"
   ]
  },
  {
   "cell_type": "code",
   "execution_count": 68,
   "metadata": {},
   "outputs": [
    {
     "name": "stdout",
     "output_type": "stream",
     "text": [
      "True\n",
      "False\n"
     ]
    }
   ],
   "source": [
    "# Boolean data example\n",
    "a = bool(1)\n",
    "b = bool(0)\n",
    "print(a)\n",
    "print(b)"
   ]
  },
  {
   "cell_type": "markdown",
   "metadata": {},
   "source": [
    "## Loops\n",
    "\n",
    "A loop is a technique of repeatedly executing the same set of instructions without explicitly writing the instructions every time we need it repeated. For example, if we want to print all the numbers from 0 to 9 we can do it by writing one `print()` statement and looping over it without hard coding 10 different loop statements. The most commonly used loops in Python are **for loops** and **while loops**.\n",
    "\n",
    "The body of both the loops contain instructions which we have to execute repeatedly but the instructions are indented inside the loop to indicate they are a part of the loop. Indentation is very important as it is the only way we can group a bunch of instructions under a loop.\n",
    "- **for loop**\n",
    " * It is the most commonly used loop in Python and can iterate over a range of values.\n",
    " * This loop works by first creating a buffer where the iteration indices are stored and then they are referenced to iterate over the actual data structure.\n",
    " * Since for loop creates the buffer when the loop is first called, changing the indices in the buffer are not possible and therefore we cannot skip over values.\n",
    " * The `range(a, b)` function in a for-loop includes `a` but excludes `b` so we need to specify `b+1` in order to count `b` also.\n",
    " \n",
    "- **while loop**\n",
    " * It is an alternative to the for loop which runs by evaluating a conditional expression.\n",
    " * As long as the conditional expression evaluates to *True* the while loop executes and halts immediately when the expression evaluates to *False*.\n",
    " * This loop does not create a temporary buffer for iteration and can therefore we used for selective iteration."
   ]
  },
  {
   "cell_type": "markdown",
   "metadata": {},
   "source": [
    "![title](images/python3/loops.png)"
   ]
  },
  {
   "cell_type": "code",
   "execution_count": 69,
   "metadata": {},
   "outputs": [
    {
     "name": "stdout",
     "output_type": "stream",
     "text": [
      "1\n",
      "2\n",
      "3\n",
      "4\n",
      "5\n",
      "6\n",
      "7\n",
      "8\n",
      "9\n",
      "10\n",
      "==========\n",
      "1\n",
      "2\n",
      "3\n",
      "4\n",
      "5\n",
      "6\n",
      "7\n",
      "8\n",
      "9\n",
      "10\n",
      "==========\n"
     ]
    }
   ],
   "source": [
    "# Printing numbers from 1 to 10 using for loop\n",
    "for i in range(1, 11):\n",
    "    print(i)\n",
    "print(\"=\" * 10)\n",
    "\n",
    "# Printing numberd from 1 to 10 using while loop\n",
    "i = 1\n",
    "while i < 11:\n",
    "    print(i)\n",
    "    i += 1 # this is the same as i = i + 1 ;  not updating the i variable will lead to infinite while-loop iterations\n",
    "print(\"=\" * 10)"
   ]
  },
  {
   "cell_type": "code",
   "execution_count": 75,
   "metadata": {},
   "outputs": [
    {
     "name": "stdout",
     "output_type": "stream",
     "text": [
      "for-loop output : 1  2  3  4  5  6  7  8  9  10  11  12  13  14  15  16  17  18  19  20  \n",
      "\n",
      "while-loop output : 1  3  5  7  9  11  13  15  17  19  \n",
      "\n"
     ]
    }
   ],
   "source": [
    "# Print odd numbers from 1 to 20 using for loop\n",
    "print(\"for-loop output : \", end='')\n",
    "for i in range(1, 21):\n",
    "    print(i, \" \", end='')\n",
    "    i += 2\n",
    "print(\"\\n\")\n",
    "\n",
    "\n",
    "# Print the odd numbers from 1 to 20 using while loop\n",
    "print(\"while-loop output : \", end='')\n",
    "i = 1\n",
    "while i < 21:\n",
    "    print(i, \" \", end='')\n",
    "    i += 2\n",
    "print(\"\\n\")"
   ]
  },
  {
   "cell_type": "markdown",
   "metadata": {},
   "source": [
    "Notice how the for loop could not print only the odd numbers in the list. This is because when the for loop was first created (beofre the first iteration) a buffer was created containing the numbers from 1 to 21. This buffer cannot be modified and therefore modifying the value of `i` has no effect.\n",
    "\n",
    "However, the while loop functions differently. The while loop evaluates the expression at every step and does not create the buffer. Hence modifications in the value of `i` reflect in the output. However, it is necessary to modify the variable(s) involved in the conditional expression that is used by the while loop. This is because if the expression remains unchanged, then it is always *True* and the while loop executes indefinitely.\n",
    "\n",
    "*A for-loop can only iterate over collection of things whereas a while-loop can do any kind of iteration we want.*\n",
    "\n",
    "\n",
    "## Conditionals\n",
    "\n",
    "### if-else statements\n",
    "`if-else` statements in Python are used to transfer the flow of execution to a different part of the program based on the evaluation of a conditional variable or a conditional expression. If the condition evaluates to *True* or the conditions are met, the `if(...)` part of the code gets executed otherwise the `else(...)` part will get executed.\n",
    "Similar to loops, all statements under `if` block or `else` block are indented by 4 spaces. These statements *belong* to the `if` or `else` block."
   ]
  },
  {
   "cell_type": "code",
   "execution_count": 1,
   "metadata": {},
   "outputs": [
    {
     "name": "stdout",
     "output_type": "stream",
     "text": [
      "1 less than 10.\n"
     ]
    }
   ],
   "source": [
    "# Example on if-else statements\n",
    "\n",
    "var = 1\n",
    "\n",
    "if var < 10:\n",
    "    print(f\"{var} less than 10.\")\n",
    "else:\n",
    "    print(f\"{var} more than 10.\")"
   ]
  },
  {
   "cell_type": "code",
   "execution_count": 2,
   "metadata": {},
   "outputs": [
    {
     "name": "stdout",
     "output_type": "stream",
     "text": [
      "1 less than 10.\n",
      "2 less than 10.\n",
      "3 less than 10.\n",
      "4 less than 10.\n",
      "5 less than 10.\n",
      "6 less than 10.\n",
      "7 less than 10.\n",
      "8 less than 10.\n",
      "9 less than 10.\n",
      "10 more than 10.\n"
     ]
    }
   ],
   "source": [
    "# Using if-else with for loops\n",
    "\n",
    "var = 1\n",
    "flag = True\n",
    "\n",
    "while flag:\n",
    "    if var < 10:\n",
    "        print(f\"{var} less than 10.\")\n",
    "        var += 1\n",
    "    else:\n",
    "        print(f\"{var} more than 10.\")\n",
    "        flag = False"
   ]
  },
  {
   "cell_type": "markdown",
   "metadata": {},
   "source": [
    "### if-elif-else\n",
    "`if-elif-else` block allows us to branch the program to more than 2 locations. Uing `if-else` block we could branch the program to 2 locations : `if` location and `else` location. However, many times we need to have intermediate checks, other conditions etc. for which either `if` or `else` approach will not work. In such cases, we need intermediate checks between `if` and `else` defined by *else if* conditions and denoted by the keyword `elif`. The statements under `elif` are also indented by 4 spaces to denote they belong to `elif`. Here are some examples:"
   ]
  },
  {
   "cell_type": "code",
   "execution_count": 4,
   "metadata": {},
   "outputs": [
    {
     "name": "stdout",
     "output_type": "stream",
     "text": [
      "1 less than 10.\n",
      "2 less than 10.\n",
      "3 less than 10.\n",
      "4 less than 10.\n",
      "5 less than 10.\n",
      "6 less than 10.\n",
      "7 less than 10.\n",
      "8 less than 10.\n",
      "9 less than 10.\n",
      "10 equal to 10.\n",
      "11 is greater than 10.\n"
     ]
    }
   ],
   "source": [
    "# Using if-elif-else with for loops\n",
    "\n",
    "var = 1\n",
    "flag = True\n",
    "\n",
    "while flag:\n",
    "    if var < 10:\n",
    "        print(f\"{var} less than 10.\")\n",
    "        var += 1\n",
    "    elif var == 10:\n",
    "        print(f\"{var} equal to 10.\")\n",
    "        var += 1\n",
    "    elif var > 10:\n",
    "        print(f\"{var} is greater than 10.\")\n",
    "        flag = False"
   ]
  },
  {
   "cell_type": "markdown",
   "metadata": {},
   "source": [
    "In the above code, apart from `if` and `else` blocks we also added an intermediate block `elif` which gave us another branching option for the program : the case when the value of `var` equals 10. This case is intermediate between the value of `var` being less than 10 and the value of `var` being more than 10. With `elif` we could efficiently handle such situations.\n",
    "\n",
    "### Conditional Expressions\n",
    "\n",
    "In Python, conditional expressions are expressions that evaluate to **True** or **False**. Below are some of the most commonly used operators in conditional expressions :\n",
    "\n",
    "- **and**\n",
    "  * `expr_a and expr_b`\n",
    "  * It evaluates to **True** when both `expr_a` and `expr_b` are **True** and it evaluates to **False** in any other case.\n",
    "  * `string_a and string_b` always returns `string_b` if `string_a` and `string_b` are different. The same holds true for numbers.\n",
    "  \n",
    "- **or**\n",
    "  * `expr_a or expr_b`\n",
    "  * It evaluates to **True** when either `expr_a` or `expr_b` are **True**  or both are **True** and it evaluates to **False** when both are false.\n",
    "  * `string_a or string_b` always returns `string_a` if `string_a` and `string_b` are different. The same holds true for numbers.\n",
    "  \n",
    "- **not**\n",
    "  * `not(expr)`\n",
    "  * It reverses the outcome of the expression `expr`, ie. if the expression evaluates to **False** `not(expr)` will make it **True** and vice versa. Same holds true for **0** and **1**.\n",
    "  \n",
    "- **==** and **!=**\n",
    "  * The **==** operator is used to test for equality of the left and right hand operands. If both the left and right operands are same it returns **True** otherwise it returns **False**.\n",
    "  * It is denoted by `expr_a == expr_b`.\n",
    "  * The **!=** operator is used to test for inequality of the left and right hand operands. If both the left and right hand operands are different it returns **True** otherwise it returns **False**.\n",
    "  * It is denoted by `expr_a != expr_b`.\n",
    "  \n",
    "#### Note:\n",
    "- In all cases `expr_a` and `expr_b` are operands. They can be expressions, values returned by functions, constants, variables etc.\n",
    "- The **and** and the **or** operator are not affected by size of the operands ie. they do not consider the size of the operands when making a comparison.\n",
    "- **=** is the assignment operator for eg. `a = b` and assigns the value of `b` to `a`.\n",
    "- Operators __<__ , __>__, __<=__, __>=__ are self explanatory and have the same effect as their mathematical equivalent (*less than*, *greater than*, *less than or equal to*, *greater than or equal to*)."
   ]
  },
  {
   "cell_type": "code",
   "execution_count": 6,
   "metadata": {},
   "outputs": [
    {
     "name": "stdout",
     "output_type": "stream",
     "text": [
      "'test' == 'testing'  False\n",
      "'test' != 'testing'  True\n",
      "True and False  False\n",
      "True and 1  1\n",
      "True or False  True\n",
      "not(True or 0)  False\n",
      "'hello' and 'world'  world\n",
      "'hello' and 'boy'  boy\n",
      "'hello' or 'world'  hello\n",
      "1 == 1 and (not('testing' == 1 or 1 == 0))  True\n"
     ]
    }
   ],
   "source": [
    "expr = 'test' == 'testing'\n",
    "print(\"'test' == 'testing' \", expr)\n",
    "\n",
    "expr = 'test' != 'testing'\n",
    "print(\"'test' != 'testing' \", expr)\n",
    "\n",
    "expr = True and False\n",
    "print(\"True and False \", expr)\n",
    "\n",
    "expr = True and 1\n",
    "print(\"True and 1 \", expr)\n",
    "\n",
    "expr = True or False\n",
    "print(\"True or False \", expr)\n",
    "\n",
    "expr = not(True or 0)\n",
    "print(\"not(True or 0) \", expr)\n",
    "\n",
    "expr = 'hello' and 'world'\n",
    "print(\"'hello' and 'world' \", expr)\n",
    "\n",
    "expr = 'hello' and 'boy'\n",
    "print(\"'hello' and 'boy' \", expr)\n",
    "\n",
    "expr = 'hello' or 'world'\n",
    "print(\"'hello' or 'world' \", expr)\n",
    "\n",
    "expr = 1 == 1 and (not('testing' == 1 or 1 == 0))\n",
    "print(\"1 == 1 and (not('testing' == 1 or 1 == 0)) \", expr)"
   ]
  },
  {
   "cell_type": "code",
   "execution_count": 5,
   "metadata": {},
   "outputs": [
    {
     "name": "stdout",
     "output_type": "stream",
     "text": [
      "1  2  3  4  5  6  7  8  9  13  16  19  22  63  "
     ]
    }
   ],
   "source": [
    "# Examples to show the other operators\n",
    "\n",
    "i = 1\n",
    "j = 1\n",
    "flag = True\n",
    "\n",
    "while flag:\n",
    "    \n",
    "    j += 3\n",
    "    \n",
    "    if i < 10:\n",
    "        print(i, \" \", end='')\n",
    "        i += 1\n",
    "        \n",
    "    elif i >= 10 and i <= 20:\n",
    "        i += 3\n",
    "        j += 5\n",
    "        print(i, \" \", end='')\n",
    "        \n",
    "    elif i > 20 or j % 5 == 0:\n",
    "        print(j, \" \", end='')\n",
    "        flag = False\n",
    "    \n",
    "    else:\n",
    "        print(i)\n",
    "        flag = False"
   ]
  },
  {
   "cell_type": "markdown",
   "metadata": {},
   "source": [
    "## Functions  \n",
    "\n",
    "A function represents a group of instructions that perform a particular task. For example, we can have a function that calculates the square of a number, a function that prints a string in reverse order, a function that contains a loop and executes a particular task repeatedly. Functions are defined as `def function_name(...)` where `function_name` can be anything (as long as it is not a reserved keyword and follows the same rules as naming variables). The `()` after a name specify it is a function. For example `var` is a variable whereas `var()` is a function. The `...` inside the paranthesis of the funciton mean that we can also put extra information inside the function. The `def` is a keyword that tells the Python compiler that this is a function and all code indented below this is a part of the function.\n",
    "\n",
    "Consider the following example :\n",
    "\n",
    ">`def foo():\n",
    "   print(\"Hello\")\n",
    "   print(\"World)`\n",
    "\n",
    "\n",
    "The above is a basic definition of a function. Here, the paranthesis do not contain anything which means the function does not take any _parameters._\n",
    "\n",
    "**Function Parameters** These are the values that are passed to the function at the time of function definition. The function uses these values to perform a particular task, change the state of some variable or output something.\n",
    "\n",
    "Consider the following example :\n",
    "\n",
    ">`def foo(a, b):\n",
    "    c = 10\n",
    "    if a > b:\n",
    "        c -= a\n",
    "    else:\n",
    "        c += b\n",
    "    print(c)`\n",
    "\n",
    "\n",
    "The above function takes 2 values at the time of creating the function which are the variables `a` and `b`. After some processing, the function changes some internal variable `c` and prints the result.\n",
    "\n",
    "**Calling A Function** When we write the name of the function anywhere in the code (after the function has been properly created) we are said to _call_ the function. In other words, _calling a function_ means executing a function after it has been created. This execution can happen anywhere in the code at any time during the execution.\n",
    "\n",
    "Consider the following example (we will be using the first `foo()` function as a reference, assume it has been created) :\n",
    "\n",
    ">`var = 10\n",
    " while var % 2 == 0:\n",
    "     if (var * 2 + 1) % 3 == 0:\n",
    "         foo()\n",
    "     else:\n",
    "         print(\"done!\")\n",
    "     var += 1\n",
    " foo()`\n",
    "\n",
    "\n",
    "In the above example, we executed the `foo()` function twice, once inside the `if` statement block and the again inside the `while` statement block in the end. This is called calling a function. "
   ]
  },
  {
   "cell_type": "markdown",
   "metadata": {},
   "source": [
    "![title](images/python3/functions.png)"
   ]
  },
  {
   "cell_type": "code",
   "execution_count": 7,
   "metadata": {},
   "outputs": [
    {
     "name": "stdout",
     "output_type": "stream",
     "text": [
      "Hello World!\n",
      "12\n",
      "even\n"
     ]
    }
   ],
   "source": [
    "# Simple function example\n",
    "def foo():\n",
    "    print(\"Hello World!\")\n",
    "\n",
    "# Function with parameters\n",
    "def even(var):\n",
    "    if var % 2 == 0:\n",
    "        print(\"even\")\n",
    "    else:\n",
    "        print(\"odd\")\n",
    "\n",
    "# Call the first function\n",
    "foo()\n",
    "\n",
    "# Take user input\n",
    "x = int(input())\n",
    "\n",
    "# Call the second function passing x to the parameter\n",
    "even(x)"
   ]
  },
  {
   "cell_type": "markdown",
   "metadata": {},
   "source": [
    "**Arguments** The values that are passed as parameters to the function during runtime (ie. when the function is called) are called as arguments. They are different from parameters because parameters are defined inside the function at the time of creation and are always fixed. Parameters cannot change without modifying the function. Arguments on the other hand are variables and whichever variable is passed to the function call is considered as an argument.\n",
    "\n",
    "In the above example in the second function `even(var)` the parameter is `var` whereas when the function is called after taking user input the argument is `x` because this is the variable that is passed at runtime.\n",
    "\n",
    "### Different Types Of Functions\n",
    "\n",
    "- **Functions which take no parameters and do not return anything back to the program.** These are the functions that do not modify the source code, rather they are used to perform simple repeating tasks like printing a particular message. However if these functions have access to variables belonging to the main program, they can be used to modify the source code.\n",
    "\n",
    "- **Functions that take arguments but do not return anything back to the program.** These are the functions that have parameters defined inside them and they use the values inside the parameters to give some information about the data of the main program. For example, they can be used to check if a number is even or odd, if a string is a palindrome etc. They can also be used to modify the values of the variable(s) of the main code to which they have access. Functions that are defined by parameters can take any type of arguments. The arguments can be variables, expressions, another function (return value), a list, a dictionary etc.\n",
    "\n",
    "- **Functions that do not take arguments but return a value back to the program.** These functions always end with the keyword `return` and send something back to the main program which called the function in the first place. Since it does not take parameters it can only return information stored inside the function when it was created. For eg. we can have information retrieval functions which return the name of person when called. We can also have functions which return the current time or date etc. all of which do not require parameters but perform some type of information retrieval.\n",
    "\n",
    "- **Functions that take arguments and return a value back to the program.** These functions also end with the keyword `return` but because they take arguments, these types of functions are the most versatile and powerful. They can be used for almost anything for eg. calculating the square of a number, taking an input string and reversing it etc.\n",
    "\n",
    "#### Note:\n",
    "* Python allows a default value to be set for the parameter. This means that if during function call the argument is not passed, then the function calculates using the default value.\n",
    "* All instructions in Python function are indented with 4 spaces.\n",
    "* We can even take input inside a function call as arguments.\n",
    "* The number of arguments that can be passed to a function depends on the Python version but it is best practice to keep number of arguments less than 5.\n",
    "* If we have functions nested inside functions, then the innermost function is the last to get called but first to get executed. Think of it like a stack approach to a function call. \n",
    "* `len` is a Python function that gives the number of bytes present in a string."
   ]
  },
  {
   "cell_type": "code",
   "execution_count": 24,
   "metadata": {},
   "outputs": [],
   "source": [
    "# Function that takes nothing, returns nothing\n",
    "def foo():\n",
    "    print(\"Hello World\")\n",
    "\n",
    "# Function that takes a parameter\n",
    "def even(var):\n",
    "    if var % 2 == 0:\n",
    "        print(\"even\")\n",
    "    else:\n",
    "        print(\"odd\")\n",
    "        \n",
    "# Function that returns a value but does not take parameters\n",
    "def fun():\n",
    "    return \"hello world\"\n",
    "\n",
    "def funl():\n",
    "    return len(\"hello world\")\n",
    "\n",
    "# Function that takes paramters and returns a value\n",
    "def power(x, y):\n",
    "    return x ** y\n",
    "\n",
    "# Function with default parameters\n",
    "def f(a=10, b=20, c=3):\n",
    "    return a + b * c"
   ]
  },
  {
   "cell_type": "code",
   "execution_count": 9,
   "metadata": {},
   "outputs": [
    {
     "name": "stdout",
     "output_type": "stream",
     "text": [
      "Hello World\n",
      "number?13\n",
      "odd\n",
      "fun() returns  hello world\n",
      "number?9\n",
      "number?3\n",
      "9 raised to the power 3 is 729\n"
     ]
    }
   ],
   "source": [
    "# Call the first function\n",
    "foo()\n",
    "\n",
    "# Take user input and call the second function\n",
    "x = int(input(\"number?\"))\n",
    "even(x)\n",
    "\n",
    "# Call the third function and print the returned value\n",
    "var = fun()\n",
    "print(\"fun() returns \", var)\n",
    "\n",
    "# Take 2 user inputs and pass them to the fourth function and print the returned value\n",
    "x = int(input(\"number?\"))\n",
    "y = int(input(\"number?\"))\n",
    "var = power(x, y)\n",
    "print(f\"{x} raised to the power {y} is {var}\")"
   ]
  },
  {
   "cell_type": "markdown",
   "metadata": {},
   "source": [
    "### Passing Arguments To Functions\n",
    "\n",
    "Though arguments can be passed to a function in many different ways, in this tutorial we will limit ourselves to variables, function call returns, inputs and expressions.\n",
    "*Passing data structures as arguments will be covered in the second part of this tutorial.*"
   ]
  },
  {
   "cell_type": "code",
   "execution_count": 10,
   "metadata": {},
   "outputs": [
    {
     "name": "stdout",
     "output_type": "stream",
     "text": [
      "number?19\n",
      "odd\n"
     ]
    }
   ],
   "source": [
    "# Passing an input call as argument\n",
    "even(int(input(\"number?\")))"
   ]
  },
  {
   "cell_type": "code",
   "execution_count": 12,
   "metadata": {},
   "outputs": [
    {
     "name": "stdout",
     "output_type": "stream",
     "text": [
      "6 to the power 17 is 16926659444736\n"
     ]
    }
   ],
   "source": [
    "# Passing an expression and a variable as input call\n",
    "expr = 6 - (4 * (5 + 3 * (2 - 4)) - 7)\n",
    "var = power(18 - 4 * 3, expr)\n",
    "print(f\"6 to the power {expr} is {var}\")"
   ]
  },
  {
   "cell_type": "code",
   "execution_count": 14,
   "metadata": {},
   "outputs": [
    {
     "name": "stdout",
     "output_type": "stream",
     "text": [
      "odd\n"
     ]
    }
   ],
   "source": [
    "# Passing a function return value as an argument\n",
    "even(funl())"
   ]
  },
  {
   "cell_type": "code",
   "execution_count": 15,
   "metadata": {},
   "outputs": [
    {
     "name": "stdout",
     "output_type": "stream",
     "text": [
      "11\n"
     ]
    }
   ],
   "source": [
    "# Checking the output of funl()\n",
    "print(funl())"
   ]
  },
  {
   "cell_type": "code",
   "execution_count": 18,
   "metadata": {},
   "outputs": [
    {
     "name": "stdout",
     "output_type": "stream",
     "text": [
      "number?3\n",
      "11 to the power _ is 1331\n"
     ]
    }
   ],
   "source": [
    "# A difficult function call\n",
    "var = power(funl(), int(input(\"number?\")))\n",
    "print(f\"{funl()} to the power _ is {var}\")"
   ]
  },
  {
   "cell_type": "code",
   "execution_count": 28,
   "metadata": {},
   "outputs": [
    {
     "name": "stdout",
     "output_type": "stream",
     "text": [
      "561\n",
      "70\n",
      "77\n"
     ]
    }
   ],
   "source": [
    "# Calling the function f without default paramters\n",
    "print(f(funl(), funl() * 2, funl() * 2 + 3))\n",
    "\n",
    "# Calling the function f with all default parameters\n",
    "print(f())\n",
    "\n",
    "# Calling the function f with some default parameters\n",
    "print(f(expr))"
   ]
  },
  {
   "cell_type": "markdown",
   "metadata": {},
   "source": [
    "### Returning Values\n",
    "\n",
    "Python allows functions to return multiple values. It can also return a list, a dictionary etc. which will be coverd in the second part of the tutorial but for now let us focus how to return multiple values through functions."
   ]
  },
  {
   "cell_type": "code",
   "execution_count": 29,
   "metadata": {},
   "outputs": [],
   "source": [
    "# Function that returns multiple values\n",
    "def foo(a, b):\n",
    "    c = 2 * a + b\n",
    "    return a, b, c"
   ]
  },
  {
   "cell_type": "code",
   "execution_count": 30,
   "metadata": {},
   "outputs": [
    {
     "name": "stdout",
     "output_type": "stream",
     "text": [
      "10 20 40\n"
     ]
    }
   ],
   "source": [
    "# Receiving multiple return values from function call\n",
    "x, y, z = foo(10, 20)\n",
    "print(x, y, z)"
   ]
  },
  {
   "cell_type": "code",
   "execution_count": 31,
   "metadata": {},
   "outputs": [],
   "source": [
    "# Function that returns another function call\n",
    "def foo(a, b):\n",
    "    c = funl() * a + b\n",
    "    return c, funl(), c % funl()"
   ]
  },
  {
   "cell_type": "code",
   "execution_count": 32,
   "metadata": {},
   "outputs": [
    {
     "name": "stdout",
     "output_type": "stream",
     "text": [
      "c=51, funl()=11, c%funl()=7\n"
     ]
    }
   ],
   "source": [
    "# Receiving multiple return values from function call\n",
    "x, y, z = foo(4, 7)\n",
    "print(f\"c={x}, funl()={y}, c%funl()={z}\")"
   ]
  },
  {
   "cell_type": "code",
   "execution_count": 33,
   "metadata": {},
   "outputs": [],
   "source": [
    "# Function that returns multiple data types\n",
    "def foo(a, b):\n",
    "    c = funl() * a + b\n",
    "    return c, fun(), c % 2 == 0"
   ]
  },
  {
   "cell_type": "code",
   "execution_count": 36,
   "metadata": {},
   "outputs": [
    {
     "name": "stdout",
     "output_type": "stream",
     "text": [
      "c : 51, fun() : hello world, c%2==0 : False\n"
     ]
    }
   ],
   "source": [
    "# Receiving multiple return values from function call\n",
    "x, y, z = foo(4, 7)\n",
    "print(f\"c : {x}, fun() : {y}, c%2==0 : {z}\")"
   ]
  },
  {
   "cell_type": "markdown",
   "metadata": {},
   "source": [
    "## Exception Handling\n",
    "\n",
    "A Python program terminates when it encounters an error. In Python programming there are two types of errors : **Syntax Error** and **Exceptions**\n",
    "\n",
    "- **Syntax Errors** are errors which arise because of wrong syntax in the code. This is because the Python compiler fails to understand the Python code. For example consider the following code :\n",
    "\n",
    ">`print(\"hello world)\n",
    "  print((hello world\")\n",
    "   if a < b\n",
    "       do_something()\n",
    "   else:\n",
    "       do_something_else()\n",
    "  `\n",
    "  \n",
    "The first two `print()` statements are written in wrong syntax because of missing double quotes `\"`. Similarly, the `if` statement is syntactically wrong because of missing `:`. These will lead to syntax errors because the Python compiler will fail to recognise them as Python instructions.\n",
    "\n",
    "- **Exceptions** are errors which are detected during runtime ie. during program execution. In these errors, the code is syntactically correct but due to some failure at runtime exceptions occur. For example, dividing by zero trying to open a file which does not exist etc. all lead to exceptions. Exceptions are hard to debug because the Python compiler will not detect them during compiliation.\n",
    "\n",
    "In this section, we will go through what exceptions are, how they differ from sytax errors and how to handle exceptions in our program."
   ]
  },
  {
   "cell_type": "code",
   "execution_count": 1,
   "metadata": {},
   "outputs": [
    {
     "ename": "SyntaxError",
     "evalue": "EOL while scanning string literal (<ipython-input-1-b381606234b4>, line 2)",
     "output_type": "error",
     "traceback": [
      "\u001b[0;36m  File \u001b[0;32m\"<ipython-input-1-b381606234b4>\"\u001b[0;36m, line \u001b[0;32m2\u001b[0m\n\u001b[0;31m    print(\"hello world)\u001b[0m\n\u001b[0m                       ^\u001b[0m\n\u001b[0;31mSyntaxError\u001b[0m\u001b[0;31m:\u001b[0m EOL while scanning string literal\n"
     ]
    }
   ],
   "source": [
    "# Syntax error example\n",
    "print(\"hello world)"
   ]
  },
  {
   "cell_type": "code",
   "execution_count": 2,
   "metadata": {},
   "outputs": [
    {
     "ename": "SyntaxError",
     "evalue": "invalid syntax (<ipython-input-2-115c41438573>, line 5)",
     "output_type": "error",
     "traceback": [
      "\u001b[0;36m  File \u001b[0;32m\"<ipython-input-2-115c41438573>\"\u001b[0;36m, line \u001b[0;32m5\u001b[0m\n\u001b[0;31m    if a < b\u001b[0m\n\u001b[0m            ^\u001b[0m\n\u001b[0;31mSyntaxError\u001b[0m\u001b[0;31m:\u001b[0m invalid syntax\n"
     ]
    }
   ],
   "source": [
    "# Syntax error example\n",
    "a = 10\n",
    "b = 20\n",
    "\n",
    "if a < b\n",
    "    print(a)\n",
    "else:\n",
    "    print(b)"
   ]
  },
  {
   "cell_type": "code",
   "execution_count": 3,
   "metadata": {},
   "outputs": [
    {
     "name": "stdout",
     "output_type": "stream",
     "text": [
      "10.0\n",
      "1.25\n",
      "0.20833333333333334\n",
      "0.052083333333333336\n",
      "0.026041666666666668\n"
     ]
    },
    {
     "ename": "ZeroDivisionError",
     "evalue": "float division by zero",
     "output_type": "error",
     "traceback": [
      "\u001b[0;31m---------------------------------------------------------------------------\u001b[0m",
      "\u001b[0;31mZeroDivisionError\u001b[0m                         Traceback (most recent call last)",
      "\u001b[0;32m<ipython-input-3-4e8cc6752d4d>\u001b[0m in \u001b[0;36m<module>\u001b[0;34m()\u001b[0m\n\u001b[1;32m      4\u001b[0m \u001b[0;34m\u001b[0m\u001b[0m\n\u001b[1;32m      5\u001b[0m \u001b[0;32mwhile\u001b[0m \u001b[0mi\u001b[0m \u001b[0;34m>=\u001b[0m \u001b[0;36m0\u001b[0m\u001b[0;34m:\u001b[0m\u001b[0;34m\u001b[0m\u001b[0;34m\u001b[0m\u001b[0m\n\u001b[0;32m----> 6\u001b[0;31m     \u001b[0ma\u001b[0m \u001b[0;34m=\u001b[0m \u001b[0ma\u001b[0m \u001b[0;34m/\u001b[0m \u001b[0mi\u001b[0m\u001b[0;34m\u001b[0m\u001b[0;34m\u001b[0m\u001b[0m\n\u001b[0m\u001b[1;32m      7\u001b[0m     \u001b[0mprint\u001b[0m\u001b[0;34m(\u001b[0m\u001b[0ma\u001b[0m\u001b[0;34m)\u001b[0m\u001b[0;34m\u001b[0m\u001b[0;34m\u001b[0m\u001b[0m\n\u001b[1;32m      8\u001b[0m     \u001b[0mi\u001b[0m \u001b[0;34m-=\u001b[0m \u001b[0;36m2\u001b[0m\u001b[0;34m\u001b[0m\u001b[0;34m\u001b[0m\u001b[0m\n",
      "\u001b[0;31mZeroDivisionError\u001b[0m: float division by zero"
     ]
    }
   ],
   "source": [
    "# Exception example\n",
    "a = 100;\n",
    "i = 10\n",
    "\n",
    "while i >= 0:\n",
    "    a = a / i\n",
    "    print(a)\n",
    "    i -= 2"
   ]
  },
  {
   "cell_type": "code",
   "execution_count": 4,
   "metadata": {},
   "outputs": [
    {
     "ename": "FileNotFoundError",
     "evalue": "[Errno 2] No such file or directory: 'some_random_file'",
     "output_type": "error",
     "traceback": [
      "\u001b[0;31m---------------------------------------------------------------------------\u001b[0m",
      "\u001b[0;31mFileNotFoundError\u001b[0m                         Traceback (most recent call last)",
      "\u001b[0;32m<ipython-input-4-7392a10d950d>\u001b[0m in \u001b[0;36m<module>\u001b[0;34m()\u001b[0m\n\u001b[1;32m      1\u001b[0m \u001b[0;31m# Exception error\u001b[0m\u001b[0;34m\u001b[0m\u001b[0;34m\u001b[0m\u001b[0;34m\u001b[0m\u001b[0m\n\u001b[1;32m      2\u001b[0m \u001b[0mfilename\u001b[0m \u001b[0;34m=\u001b[0m \u001b[0;34m\"some_random_file\"\u001b[0m\u001b[0;34m\u001b[0m\u001b[0;34m\u001b[0m\u001b[0m\n\u001b[0;32m----> 3\u001b[0;31m \u001b[0mtxt\u001b[0m \u001b[0;34m=\u001b[0m \u001b[0mopen\u001b[0m\u001b[0;34m(\u001b[0m\u001b[0mfilename\u001b[0m\u001b[0;34m,\u001b[0m \u001b[0;34m'r'\u001b[0m\u001b[0;34m)\u001b[0m\u001b[0;34m\u001b[0m\u001b[0;34m\u001b[0m\u001b[0m\n\u001b[0m\u001b[1;32m      4\u001b[0m \u001b[0mprint\u001b[0m\u001b[0;34m(\u001b[0m\u001b[0mtxt\u001b[0m\u001b[0;34m.\u001b[0m\u001b[0mread\u001b[0m\u001b[0;34m(\u001b[0m\u001b[0;34m)\u001b[0m\u001b[0;34m)\u001b[0m\u001b[0;34m\u001b[0m\u001b[0;34m\u001b[0m\u001b[0m\n",
      "\u001b[0;31mFileNotFoundError\u001b[0m: [Errno 2] No such file or directory: 'some_random_file'"
     ]
    }
   ],
   "source": [
    "# Exception example\n",
    "filename = \"some_random_file.txt\"\n",
    "txt = open(filename, 'r')\n",
    "print(txt.read())"
   ]
  },
  {
   "cell_type": "code",
   "execution_count": 6,
   "metadata": {},
   "outputs": [
    {
     "name": "stdout",
     "output_type": "stream",
     "text": [
      "\n"
     ]
    }
   ],
   "source": [
    "# Opening a non existent file in 'w+' mode will not lead to exception\n",
    "filename = \"some_random_file.txt\"\n",
    "txt = open(filename, 'w+')\n",
    "print(txt.read())"
   ]
  },
  {
   "cell_type": "code",
   "execution_count": 7,
   "metadata": {},
   "outputs": [
    {
     "ename": "FileNotFoundError",
     "evalue": "[Errno 2] No such file or directory: 'another_random_file.txt'",
     "output_type": "error",
     "traceback": [
      "\u001b[0;31m---------------------------------------------------------------------------\u001b[0m",
      "\u001b[0;31mFileNotFoundError\u001b[0m                         Traceback (most recent call last)",
      "\u001b[0;32m<ipython-input-7-d9b68c2209db>\u001b[0m in \u001b[0;36m<module>\u001b[0;34m()\u001b[0m\n\u001b[1;32m      1\u001b[0m \u001b[0;31m# Opening a non existent file in 'r+' mode will lead to exception\u001b[0m\u001b[0;34m\u001b[0m\u001b[0;34m\u001b[0m\u001b[0;34m\u001b[0m\u001b[0m\n\u001b[1;32m      2\u001b[0m \u001b[0mfilename\u001b[0m \u001b[0;34m=\u001b[0m \u001b[0;34m\"another_random_file.txt\"\u001b[0m\u001b[0;34m\u001b[0m\u001b[0;34m\u001b[0m\u001b[0m\n\u001b[0;32m----> 3\u001b[0;31m \u001b[0mtxt\u001b[0m \u001b[0;34m=\u001b[0m \u001b[0mopen\u001b[0m\u001b[0;34m(\u001b[0m\u001b[0mfilename\u001b[0m\u001b[0;34m,\u001b[0m \u001b[0;34m'r+'\u001b[0m\u001b[0;34m)\u001b[0m\u001b[0;34m\u001b[0m\u001b[0;34m\u001b[0m\u001b[0m\n\u001b[0m\u001b[1;32m      4\u001b[0m \u001b[0mprint\u001b[0m\u001b[0;34m(\u001b[0m\u001b[0mtxt\u001b[0m\u001b[0;34m.\u001b[0m\u001b[0mread\u001b[0m\u001b[0;34m(\u001b[0m\u001b[0;34m)\u001b[0m\u001b[0;34m)\u001b[0m\u001b[0;34m\u001b[0m\u001b[0;34m\u001b[0m\u001b[0m\n",
      "\u001b[0;31mFileNotFoundError\u001b[0m: [Errno 2] No such file or directory: 'another_random_file.txt'"
     ]
    }
   ],
   "source": [
    "# Opening a non existent file in 'r+' mode will lead to exception\n",
    "filename = \"another_random_file.txt\"\n",
    "txt = open(filename, 'r+')\n",
    "print(txt.read())"
   ]
  },
  {
   "cell_type": "markdown",
   "metadata": {},
   "source": [
    "Now that we know how to distinguish between syntax errors and exceptions let us see what are the common Python exceptions that we might encounter :\n",
    "\n",
    "- **IOError** This exception occurs when a specified file cannot be opened by the program. The file may or may not exist, but there is some error while trying to open it.\n",
    "- **KeyboardInterrupt** This exception occurs when an unwanted key is pressed by the user at runtime.\n",
    "- **Value Error** This exception occurs when a built in function receives a wrong argument.\n",
    "- **EOFError** If end-of-file is reached without reading any data.\n",
    "- **ImportError** If the required module cannot be found.\n",
    "\n",
    "### Exception Handling Using Try and Except Block\n",
    "\n",
    "The `try` and `except` block in Python are used to *catch and handle* exceptions. *Catching* an exception means to detect an exception when it occurs and *handling* and exception means to take appropriate steps after detection of exception to prevent the program from crashing. This enables the program to carry out normal execution even after an exception occurs.\n",
    "\n",
    "![title](images/python3/try_except_50.png)\n",
    "\n",
    "In the `try` block Python runs the *normal* code ie. the regular instructions that are a part of the program. In the `except` block we include code that handles any exceptions that might occur in the preceeding `try` block. It is important to note that only the code which handles the exception goes into the `except` block. Let us see this with an example:"
   ]
  },
  {
   "cell_type": "code",
   "execution_count": 6,
   "metadata": {},
   "outputs": [
    {
     "name": "stdout",
     "output_type": "stream",
     "text": [
      "10.0\n",
      "1.25\n",
      "0.20833333333333334\n",
      "0.052083333333333336\n",
      "0.026041666666666668\n",
      "Division By Zero Exception!\n"
     ]
    }
   ],
   "source": [
    "# Handling division by zero error\n",
    "def divide(a, i):\n",
    "    try:\n",
    "        while i >= 0:\n",
    "            a = a / i\n",
    "            print(a)\n",
    "            i -= 2\n",
    "    except:\n",
    "        print(\"Division By Zero Exception!\")\n",
    "        \n",
    "divide(100, 10)"
   ]
  },
  {
   "cell_type": "code",
   "execution_count": 4,
   "metadata": {},
   "outputs": [
    {
     "name": "stdout",
     "output_type": "stream",
     "text": [
      "File not found exception!\n"
     ]
    }
   ],
   "source": [
    "# Handling file not found exception\n",
    "try:\n",
    "    filename = \"newfile.txt\"\n",
    "    txt = open(filename, 'r')\n",
    "    print(txt.read())\n",
    "except:\n",
    "    print(\"File Not Found exception!\")"
   ]
  },
  {
   "cell_type": "markdown",
   "metadata": {},
   "source": [
    "> **WARNING** Catching exceptions hides all errors, even those which are unexpected. That is why it is considered best practice to avoid bare except clauses in our Python programs. Rather, refer to specific exception classes that we want to catch and handle.\n",
    "\n",
    "The following example will make things clear why we need specific `except` clauses instead of bare ones."
   ]
  },
  {
   "cell_type": "code",
   "execution_count": 8,
   "metadata": {},
   "outputs": [
    {
     "name": "stdout",
     "output_type": "stream",
     "text": [
      "Exception!\n"
     ]
    }
   ],
   "source": [
    "# Example which shows what happens when we dont use exact except clauses\n",
    "try:\n",
    "    \n",
    "    # Opening a file exception\n",
    "    filename = \"newfile.txt\"\n",
    "    txt = open(filename, 'r')\n",
    "    print(txt.read())\n",
    "    \n",
    "    # Divide by zero exception\n",
    "    var = 100 /  0\n",
    "    print(var)\n",
    "\n",
    "except:\n",
    "    print(\"Exception!\")"
   ]
  },
  {
   "cell_type": "code",
   "execution_count": 12,
   "metadata": {},
   "outputs": [
    {
     "name": "stdout",
     "output_type": "stream",
     "text": [
      "\n",
      "Exception Caught :  [Errno 2] No such file or directory: 'newfile.txt'\n"
     ]
    }
   ],
   "source": [
    "# Example to handle specific exceptions\n",
    "try:\n",
    "    filename = \"newfile.txt\"\n",
    "    txt = open(filename, 'r')\n",
    "    print(txt.read())\n",
    "    \n",
    "    var = 100 / 19\n",
    "    print(var)\n",
    "except FileNotFoundError as fnf_err:\n",
    "    print(\"\\nException Caught : \", fnf_err)\n",
    "except ZeroDivisionError as zde_err:\n",
    "    print(\"\\nException Caught : \", zde_err)"
   ]
  },
  {
   "cell_type": "code",
   "execution_count": 14,
   "metadata": {},
   "outputs": [
    {
     "name": "stdout",
     "output_type": "stream",
     "text": [
      "this is a new file\n",
      "this line should start on a new line this line should also be on a new line ?\n",
      "the quick brown fox jumps over the lazy dog.\n",
      "hello worldhello worldthis is a new line-18.0\n",
      "new line successfully appended!\n",
      "----END----\n",
      "\n",
      "Exception Caught :  division by zero\n"
     ]
    }
   ],
   "source": [
    "# Example to handle specific exceptions\n",
    "try:\n",
    "    filename = \"sample.txt\"\n",
    "    txt = open(filename, 'r')\n",
    "    print(txt.read())\n",
    "    \n",
    "    var = 100 / 0\n",
    "    print(var)\n",
    "except FileNotFoundError as fnf_err:\n",
    "    print(\"\\nException Caught : \", fnf_err)\n",
    "except ZeroDivisionError as zde_err:\n",
    "    print(\"\\nException Caught : \", zde_err)"
   ]
  },
  {
   "cell_type": "code",
   "execution_count": 15,
   "metadata": {},
   "outputs": [
    {
     "name": "stdout",
     "output_type": "stream",
     "text": [
      "\n",
      "Exception Caught :  [Errno 2] No such file or directory: 'newfile.txt'\n"
     ]
    }
   ],
   "source": [
    "# Example to handle both exceptions\n",
    "try:\n",
    "    filename = \"newfile.txt\"\n",
    "    txt = open(filename, 'r')\n",
    "    print(txt.read())\n",
    "    \n",
    "    var = 100 / 0\n",
    "    print(var)\n",
    "except FileNotFoundError as fnf_err:\n",
    "    print(\"\\nException Caught : \", fnf_err)\n",
    "except ZeroDivisionError as zde_err:\n",
    "    print(\"\\nException Caught : \", zde_err)"
   ]
  },
  {
   "cell_type": "markdown",
   "metadata": {},
   "source": [
    "As evident from the above example, it is clear that the program executes only till the first exception. If the later part of the program is correct under the try block it still does not get executed (refer third example from last). There are different ways to handle them and we will be looking thorugh a few of them.\n",
    "\n",
    "Here are some important points to remember:\n",
    "\n",
    "- A try caluse is executed up until the point where the first exception is encountered ie. if there is no exception **only** the try clause will run and if there is an exception, everything after the exception in the try clause will be skipped and the program will jump to the except clause.\n",
    "- Inside the excpetion handler (ie. the except clause) the programmer can decide how to handle the exception.\n",
    "- We can anticipate multiple exceptions and differentiate how the program should respond to them (ie. a try statement can have more than one except clause).\n",
    "- If an exception occurs but the exception handler cannot handle it, it is passed to outer try statements. If the exception is left unhandled, the execution stops.\n",
    "- It is better to avoid bare exception clauses."
   ]
  },
  {
   "cell_type": "markdown",
   "metadata": {},
   "source": [
    "### The Else Clause\n",
    "\n",
    "Python allows us to execute a certain piece of code if there are no exceptions using the `else` statement. This is a useful way to handle multiple exceptions that might arise in the try block or if the code gets skipped (in a try block) due to some earlier exception.\n",
    "\n",
    "![title](images/python3/try_except_else_50.png)"
   ]
  },
  {
   "cell_type": "code",
   "execution_count": 16,
   "metadata": {},
   "outputs": [
    {
     "name": "stdout",
     "output_type": "stream",
     "text": [
      "EXCEPTION CAUGHT :  [Errno 2] No such file or directory: 'newfile.txt'\n"
     ]
    }
   ],
   "source": [
    "# Consider an earlier example\n",
    "try:\n",
    "    filename = \"newfile.txt\"\n",
    "    txt = open(filename, 'r')\n",
    "    print(txt.read())\n",
    "    \n",
    "    var = 100 / 17\n",
    "    print(var)\n",
    "except FileNotFoundError as fnfe_err:\n",
    "    print(\"EXCEPTION CAUGHT : \", fnfe_err)\n",
    "except ZeroDivisionError as zde_err:\n",
    "    print(\"EXCEPTION CAUGHT : \", zde_err)"
   ]
  },
  {
   "cell_type": "markdown",
   "metadata": {},
   "source": [
    "In this example, the division operation gets skipped because of an exception caught above. This problem can be solved using `else` statement along with `try` and `except` clause. Consider the example below:"
   ]
  },
  {
   "cell_type": "code",
   "execution_count": 18,
   "metadata": {},
   "outputs": [
    {
     "name": "stdout",
     "output_type": "stream",
     "text": [
      "14.285714285714286\n",
      "EXCEPTION CAUGHT :  [Errno 2] No such file or directory: 'newfile.txt'\n"
     ]
    }
   ],
   "source": [
    "# Else statement with try and except\n",
    "try:\n",
    "    var = 100/7\n",
    "    print(var)\n",
    "except ZeroDivisionError as zde_err:\n",
    "    print(\"EXCEPTION CAUGHT : \", zde_err)\n",
    "else:\n",
    "    try:\n",
    "        filename = \"newfile.txt\"\n",
    "        txt = open(filename, 'r')\n",
    "        print(txt.read())\n",
    "    except FileNotFoundError as fnfe_err:\n",
    "        print(\"EXCEPTION CAUGHT : \", fnfe_err)"
   ]
  },
  {
   "cell_type": "markdown",
   "metadata": {},
   "source": [
    "From the above example we can see that the `else` block solves the previous problem. However, this is not an elegant solution because the `else` block is executed **only when there are no exceptions.** If the division would have resulted in an exception then the `else` block would have been ignored altogether.\n",
    "\n",
    "A simple solution to this problem is to use nested `try-except` blocks. Consider the following example:"
   ]
  },
  {
   "cell_type": "code",
   "execution_count": 20,
   "metadata": {},
   "outputs": [
    {
     "name": "stdout",
     "output_type": "stream",
     "text": [
      "EXCEPTION CAUGHT :  division by zero\n",
      "EXCEPTION CAUGHT :  [Errno 2] No such file or directory: 'newfile.txt'\n"
     ]
    }
   ],
   "source": [
    "# Using nested try except block\n",
    "try:\n",
    "    \n",
    "    try:\n",
    "        var = 100 / 0\n",
    "        print(var)\n",
    "    except ZeroDivisionError as zde_err:\n",
    "        print(\"EXCEPTION CAUGHT : \", zde_err)\n",
    "        \n",
    "    filename = \"newfile.txt\"\n",
    "    txt = open(filename, 'r')\n",
    "    print(txt.read())\n",
    "    \n",
    "except FileNotFoundError as fnfe_err:\n",
    "    print(\"EXCEPTION CAUGHT : \", fnfe_err)"
   ]
  },
  {
   "cell_type": "markdown",
   "metadata": {},
   "source": [
    "Even though there are multiple exceptions being raised, all of them get caught because of the nesting of `try-except` blocks. An even better solution is to use multiple nested `try-except` blocks for those parts of the code where we can anticipate an exception. Becuase of the nesting, all unhandled excpetions from inner `try-except` blocks will get passed to the outer ones which will try to handle them or pass them higher up. This reduces the chances of the program crashing drastically."
   ]
  },
  {
   "cell_type": "code",
   "execution_count": 21,
   "metadata": {},
   "outputs": [
    {
     "name": "stdout",
     "output_type": "stream",
     "text": [
      "EXCEPTION CAUGHT :  division by zero\n",
      "EXCEPTION CAUGHT :  [Errno 2] No such file or directory: 'newfile.txt'\n",
      "UNKNOWN EXCEPTION CAUGHT WHILE TRYING TO HANDLE ANOTHER EXCEPTION!\n"
     ]
    }
   ],
   "source": [
    "# Multiple nested try except block\n",
    "try:\n",
    "    \n",
    "    try:\n",
    "        var = 100 / 0\n",
    "        print(var)\n",
    "    except ZeroDivisionError as zde_err:\n",
    "        print(\"EXCEPTION CAUGHT : \", zde_err)\n",
    "    \n",
    "    try:\n",
    "        filename = \"newfile.txt\"\n",
    "        txt = open(filename, 'r')\n",
    "        print(txt.read())\n",
    "    except FileNotFoundError as fnfe_err:\n",
    "        print(\"EXCEPTION CAUGHT : \", fnfe_err)\n",
    "        \n",
    "    try:\n",
    "        var = 56 / 0\n",
    "        print(var)\n",
    "    except ZeroDivisionError as zde_err:\n",
    "        # this will be an unhandled exception which will get handled by outer try-except block\n",
    "        print(\"EXCEPTION CAUGHT : \", zde)\n",
    "except:\n",
    "    print(\"UNKNOWN EXCEPTION CAUGHT WHILE TRYING TO HANDLE ANOTHER EXCEPTION!\")"
   ]
  },
  {
   "cell_type": "markdown",
   "metadata": {},
   "source": [
    "### The Finally Clause\n",
    "\n",
    "The `finally` clause ensures that Python **always** runs some code after `try-except` execution. This is mostly used for cleaning up operations but the code in `finally` will always run with or without any previously encountered exceptions.\n",
    "\n",
    "![title](images/python3/try_except_else_finally_50.png)"
   ]
  },
  {
   "cell_type": "code",
   "execution_count": 27,
   "metadata": {},
   "outputs": [
    {
     "name": "stdout",
     "output_type": "stream",
     "text": [
      "EXCEPTION CAUGHT :  division by zero\n",
      "\n",
      "\n",
      "CONTENTS OF sample.txt :\n",
      " ------------------------------ \n",
      " this is a new file\n",
      "this line should start on a new line this line should also be on a new line ?\n",
      "the quick brown fox jumps over the lazy dog.\n",
      "hello worldhello worldthis is a new line-18.0\n",
      "new line successfully appended!\n",
      "----END---- \n",
      "\n",
      "UNKNOWN EXCEPTION CAUGHT WHILE TRYING TO HANDLE ANOTHER EXCEPTION!\n",
      "\n",
      "[2]. file closed!\n"
     ]
    }
   ],
   "source": [
    "# An example on how finally clause works\n",
    "try:\n",
    "    \n",
    "    try:\n",
    "        var = 100 / 0\n",
    "        print(var)\n",
    "    except ZeroDivisionError as zde_err:\n",
    "        print(\"EXCEPTION CAUGHT : \", zde_err)\n",
    "        print(\"\\n\")\n",
    "    \n",
    "    try:\n",
    "        filename = \"sample.txt\"\n",
    "        txt = open(filename, 'r')\n",
    "        print(f\"CONTENTS OF {filename} :\\n\", \"-\" * 30, \"\\n\", txt.read(), \"\\n\")\n",
    "    except FileNotFoundError as fnfe_err:\n",
    "        print(\"EXCEPTION CAUGHT : \", fnfe_err)\n",
    "        print(\"\\n\")\n",
    "        \n",
    "    try:\n",
    "        var = 56 / 0\n",
    "        print(var)\n",
    "    except ZeroDivisionError as zde_err:\n",
    "        # this will be an unhandled exception which will get handled by outer try-except block\n",
    "        print(\"EXCEPTION CAUGHT : \", zde)\n",
    "        print(\"\\n\")\n",
    "    \n",
    "    # this code will not execute because of unhandled exception\n",
    "    txt.close()\n",
    "    print(\"[1]. File closed!\\n\")\n",
    "except:\n",
    "    print(\"UNKNOWN EXCEPTION CAUGHT WHILE TRYING TO HANDLE ANOTHER EXCEPTION!\\n\")\n",
    "finally:\n",
    "    # because of finally we can close the file here\n",
    "    txt.close()\n",
    "    print(\"[2]. file closed!\")"
   ]
  },
  {
   "cell_type": "markdown",
   "metadata": {},
   "source": [
    "### CONCLUSION\n",
    "\n",
    "Congratulations! You have made it till the end of the first part of the tutorial. If you have been going through these tutorial, a good idea would be to implement them on your computer typing by hand and executing the code. You are also encouraged to try and make modifications to this code and see what happens. \n",
    "\n",
    "You can alternatively, use the provided **.py** files and run them directly using the command `python3 filename.py` on your terminal and check the output."
   ]
  }
 ],
 "metadata": {
  "kernelspec": {
   "display_name": "Python 3",
   "language": "python",
   "name": "python3"
  },
  "language_info": {
   "codemirror_mode": {
    "name": "ipython",
    "version": 3
   },
   "file_extension": ".py",
   "mimetype": "text/x-python",
   "name": "python",
   "nbconvert_exporter": "python",
   "pygments_lexer": "ipython3",
   "version": "3.6.7"
  }
 },
 "nbformat": 4,
 "nbformat_minor": 2
}
